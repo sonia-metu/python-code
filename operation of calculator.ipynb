{
 "cells": [
  {
   "cell_type": "code",
   "execution_count": 1,
   "id": "0f86f92d-6086-4377-bd5e-23701f603a1e",
   "metadata": {},
   "outputs": [
    {
     "name": "stdin",
     "output_type": "stream",
     "text": [
      "enter calculation(e.g. 2+3)or type \"exit\" to quit: 2 + 3\n"
     ]
    },
    {
     "name": "stdout",
     "output_type": "stream",
     "text": [
      "result: 5.0\n"
     ]
    },
    {
     "name": "stdin",
     "output_type": "stream",
     "text": [
      "enter calculation(e.g. 2+3)or type \"exit\" to quit: 3 - 1\n"
     ]
    },
    {
     "name": "stdout",
     "output_type": "stream",
     "text": [
      "result: 2.0\n"
     ]
    },
    {
     "name": "stdin",
     "output_type": "stream",
     "text": [
      "enter calculation(e.g. 2+3)or type \"exit\" to quit: 2 * 3\n"
     ]
    },
    {
     "name": "stdout",
     "output_type": "stream",
     "text": [
      "result: 6.0\n"
     ]
    },
    {
     "name": "stdin",
     "output_type": "stream",
     "text": [
      "enter calculation(e.g. 2+3)or type \"exit\" to quit: 6 / 2\n"
     ]
    },
    {
     "name": "stdout",
     "output_type": "stream",
     "text": [
      "result: 3.0\n"
     ]
    },
    {
     "name": "stdin",
     "output_type": "stream",
     "text": [
      "enter calculation(e.g. 2+3)or type \"exit\" to quit: exit\n"
     ]
    },
    {
     "name": "stdout",
     "output_type": "stream",
     "text": [
      "exiting program\n"
     ]
    }
   ],
   "source": [
    "def calculate(num1,num2,operator):\n",
    "  if operator == '+':\n",
    "    return num1 + num2\n",
    "  elif operator == '-':\n",
    "    return num1 - num2\n",
    "  elif operator == '*':\n",
    "    return num1 * num2\n",
    "  elif operator == '/':\n",
    "    if num2 == 0:\n",
    "        return \"Error: Division by zero\"\n",
    "    return num1 / num2\n",
    "  else:\n",
    "    return \" Invalid operator\"\n",
    "while True:\n",
    "    user_input=input('enter calculation(e.g. 2+3)or type \"exit\" to quit:').strip()\n",
    "    if user_input.lower() == 'exit':\n",
    "      print(\"exiting program\")\n",
    "      break\n",
    "    try:\n",
    "      parts = user_input.split()\n",
    "      if len(parts)!=3:\n",
    "         raise ValueError(\"invalid input\")\n",
    "      num1 = float(parts[0])\n",
    "      operator = parts[1]\n",
    "      num2 = float(parts[2])\n",
    "      result = calculate(num1, num2, operator)\n",
    "      print(\"result:\", result)\n",
    "    except Exception as e:\n",
    "      print(\"error:\", e)"
   ]
  },
  {
   "cell_type": "code",
   "execution_count": null,
   "id": "2390e3e3-0ddb-4ca4-a03d-dea6637ce58f",
   "metadata": {},
   "outputs": [],
   "source": []
  }
 ],
 "metadata": {
  "kernelspec": {
   "display_name": "Python 3 (ipykernel)",
   "language": "python",
   "name": "python3"
  },
  "language_info": {
   "codemirror_mode": {
    "name": "ipython",
    "version": 3
   },
   "file_extension": ".py",
   "mimetype": "text/x-python",
   "name": "python",
   "nbconvert_exporter": "python",
   "pygments_lexer": "ipython3",
   "version": "3.13.5"
  }
 },
 "nbformat": 4,
 "nbformat_minor": 5
}
