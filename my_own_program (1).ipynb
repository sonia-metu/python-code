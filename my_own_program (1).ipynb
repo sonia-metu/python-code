{
  "nbformat": 4,
  "nbformat_minor": 0,
  "metadata": {
    "colab": {
      "provenance": []
    },
    "kernelspec": {
      "name": "python3",
      "display_name": "Python 3"
    },
    "language_info": {
      "name": "python"
    }
  },
  "cells": [
    {
      "cell_type": "code",
      "execution_count": null,
      "metadata": {
        "colab": {
          "base_uri": "https://localhost:8080/"
        },
        "id": "fyC8wh9PzXqb",
        "outputId": "49b0fab6-620c-48ad-bcfa-90bdef487dd8"
      },
      "outputs": [
        {
          "output_type": "stream",
          "name": "stdout",
          "text": [
            "30\n"
          ]
        }
      ],
      "source": [
        "a=10\n",
        "b=20\n",
        "sum=a+b\n",
        "print(sum)"
      ]
    },
    {
      "cell_type": "code",
      "source": [
        "sum=0\n",
        "for i in range(1,101):\n",
        "  sum=sum+i\n",
        "print(sum)"
      ],
      "metadata": {
        "colab": {
          "base_uri": "https://localhost:8080/"
        },
        "id": "xtyX-tQ91iox",
        "outputId": "2325097b-4de7-461b-d623-82af48b98713"
      },
      "execution_count": null,
      "outputs": [
        {
          "output_type": "stream",
          "name": "stdout",
          "text": [
            "5050\n"
          ]
        }
      ]
    },
    {
      "cell_type": "code",
      "source": [
        "a=int(input(\"a=\"))\n",
        "b=int(input(\"b=\"))\n",
        "c=int(input(\"c=\"))\n",
        "if a>b and a>c:\n",
        "  print(\"a is the largest number\")\n",
        "elif b>a and b>c:\n",
        "  print(\"b is the largest number\")\n",
        "else:\n",
        "  print(\"c is the largest number\")"
      ],
      "metadata": {
        "colab": {
          "base_uri": "https://localhost:8080/"
        },
        "id": "hySNdwdx2AZP",
        "outputId": "659ba139-22d9-446e-8bfc-60e215680866"
      },
      "execution_count": null,
      "outputs": [
        {
          "output_type": "stream",
          "name": "stdout",
          "text": [
            "a=20\n",
            "b=10\n",
            "c=13\n",
            "a is the largest number\n"
          ]
        }
      ]
    },
    {
      "cell_type": "code",
      "source": [
        "a=10\n",
        "b=10\n",
        "result=a==b\n",
        "print(result)"
      ],
      "metadata": {
        "id": "LXkLMFXfCfh8",
        "colab": {
          "base_uri": "https://localhost:8080/"
        },
        "outputId": "7811a1b1-fbfb-4205-bd39-73ead0e20dbb"
      },
      "execution_count": null,
      "outputs": [
        {
          "output_type": "stream",
          "name": "stdout",
          "text": [
            "True\n"
          ]
        }
      ]
    },
    {
      "cell_type": "code",
      "source": [
        "a=5\n",
        "b=10\n",
        "result=a!=b\n",
        "print(result)"
      ],
      "metadata": {
        "colab": {
          "base_uri": "https://localhost:8080/"
        },
        "id": "VPQAs9DTFngw",
        "outputId": "49e0aef5-9868-47e6-dbdb-2623d77c19ed"
      },
      "execution_count": null,
      "outputs": [
        {
          "output_type": "stream",
          "name": "stdout",
          "text": [
            "True\n"
          ]
        }
      ]
    },
    {
      "cell_type": "code",
      "source": [
        "age=int(input(\"age=\"))\n",
        "if age>=18:\n",
        "  print(\"you are eligible to vote\")\n",
        "else:\n",
        "  print(\"you are not eligible to vote\")"
      ],
      "metadata": {
        "colab": {
          "base_uri": "https://localhost:8080/"
        },
        "id": "jp-5k1HsGZOG",
        "outputId": "e8947d6e-2667-44bc-c9f9-562787839ed3"
      },
      "execution_count": null,
      "outputs": [
        {
          "output_type": "stream",
          "name": "stdout",
          "text": [
            "age=22\n",
            "you are eligible to vote\n"
          ]
        }
      ]
    },
    {
      "cell_type": "code",
      "source": [
        "age=12\n",
        "print(age,type(age))\n",
        "age=str(age)\n",
        "print(age,type(age))"
      ],
      "metadata": {
        "colab": {
          "base_uri": "https://localhost:8080/"
        },
        "id": "aBj04Y-XGsjE",
        "outputId": "10902c3b-6aa0-4d88-f431-bcd891f48aec"
      },
      "execution_count": null,
      "outputs": [
        {
          "output_type": "stream",
          "name": "stdout",
          "text": [
            "12 <class 'int'>\n",
            "12 <class 'str'>\n"
          ]
        }
      ]
    },
    {
      "cell_type": "code",
      "source": [
        "a=True\n",
        "b=False\n",
        "print(a,\"and\",b,\"is\",a and b)\n",
        "print(a,\"or\",b,\"is\",a or b)\n",
        "print(\"not\",a,\"is\",not a)"
      ],
      "metadata": {
        "colab": {
          "base_uri": "https://localhost:8080/"
        },
        "id": "0-r_O57ZHXv_",
        "outputId": "f322bb41-cb14-4352-fd31-a421c655286b"
      },
      "execution_count": null,
      "outputs": [
        {
          "output_type": "stream",
          "name": "stdout",
          "text": [
            "True and False is False\n",
            "True or False is True\n",
            "not True is False\n"
          ]
        }
      ]
    },
    {
      "cell_type": "code",
      "source": [
        "a=True\n",
        "b=True\n",
        "print(a,\"and\",b,\"is\",a and b)\n"
      ],
      "metadata": {
        "colab": {
          "base_uri": "https://localhost:8080/"
        },
        "id": "UATuQpeBICLG",
        "outputId": "883ef4a1-0f19-415a-cafe-e2bd0f6c1ac1"
      },
      "execution_count": null,
      "outputs": [
        {
          "output_type": "stream",
          "name": "stdout",
          "text": [
            "True and True is True\n"
          ]
        }
      ]
    },
    {
      "cell_type": "code",
      "source": [
        "x=5\n",
        "y=10\n",
        "print(x<y and x>y)"
      ],
      "metadata": {
        "colab": {
          "base_uri": "https://localhost:8080/"
        },
        "id": "wAGUPhVSIVlV",
        "outputId": "ebdb3c7f-f644-4625-8d81-bd6771d35262"
      },
      "execution_count": null,
      "outputs": [
        {
          "output_type": "stream",
          "name": "stdout",
          "text": [
            "False\n"
          ]
        }
      ]
    },
    {
      "cell_type": "code",
      "source": [
        "a=20\n",
        "b=30\n",
        "if a>b:\n",
        "  print(\"a is greater than b\")\n",
        "elif b>a:\n",
        "  print(\"b is greater than a\")\n",
        "else:\n",
        "  print(\"a is equal to b\")"
      ],
      "metadata": {
        "colab": {
          "base_uri": "https://localhost:8080/"
        },
        "id": "j_MzzYP2IlT8",
        "outputId": "059a1986-bd70-4e90-cec9-62366d95ab9e"
      },
      "execution_count": null,
      "outputs": [
        {
          "output_type": "stream",
          "name": "stdout",
          "text": [
            "b is greater than a\n"
          ]
        }
      ]
    },
    {
      "cell_type": "code",
      "source": [
        "x=5\n",
        "if x<5:\n",
        "  print(\"x is less than 5\")\n",
        "elif x<15:\n",
        "  print(\"x is less than 15\")\n",
        "else:\n",
        "  print(\"15 or more\")\n"
      ],
      "metadata": {
        "colab": {
          "base_uri": "https://localhost:8080/"
        },
        "id": "wB4d9PhcKTsv",
        "outputId": "c694fa95-da46-43c8-d24c-abf0b709a99d"
      },
      "execution_count": null,
      "outputs": [
        {
          "output_type": "stream",
          "name": "stdout",
          "text": [
            "x is less than 15\n"
          ]
        }
      ]
    },
    {
      "cell_type": "code",
      "source": [
        "a=10\n",
        "b=4\n",
        "c=20\n",
        "if a>b and c>a:\n",
        "  print(\"both conditions are true\")"
      ],
      "metadata": {
        "colab": {
          "base_uri": "https://localhost:8080/"
        },
        "id": "0sFLJ7zfLpFN",
        "outputId": "5f447340-ab22-43f9-f449-91b0d095957d"
      },
      "execution_count": null,
      "outputs": [
        {
          "output_type": "stream",
          "name": "stdout",
          "text": [
            "both conditions are true\n"
          ]
        }
      ]
    },
    {
      "cell_type": "code",
      "source": [
        "for number in range(1,11):\n",
        "  square=number**2\n",
        "  print(f\"the square of {number} is {square}\")"
      ],
      "metadata": {
        "colab": {
          "base_uri": "https://localhost:8080/"
        },
        "id": "VAOcP_JlM7it",
        "outputId": "4da2dc47-1ee1-4a11-81e5-4b422ed6aa72"
      },
      "execution_count": null,
      "outputs": [
        {
          "output_type": "stream",
          "name": "stdout",
          "text": [
            "the square of 1 is 1\n",
            "the square of 2 is 4\n",
            "the square of 3 is 9\n",
            "the square of 4 is 16\n",
            "the square of 5 is 25\n",
            "the square of 6 is 36\n",
            "the square of 7 is 49\n",
            "the square of 8 is 64\n",
            "the square of 9 is 81\n",
            "the square of 10 is 100\n"
          ]
        }
      ]
    },
    {
      "cell_type": "code",
      "source": [
        "year=eval(input(\"enter a year\"))\n",
        "if (year%4==0 and year%100!=0) or (year%400==0):\n",
        "  print(year, \"is a leap year\")\n",
        "else:\n",
        "  print(year, \"is not a leap year\")"
      ],
      "metadata": {
        "colab": {
          "base_uri": "https://localhost:8080/"
        },
        "id": "inh5JX3KNUKf",
        "outputId": "f22b405d-0c4b-456e-b072-45f2381ee0c0"
      },
      "execution_count": null,
      "outputs": [
        {
          "output_type": "stream",
          "name": "stdout",
          "text": [
            "enter a year1998\n",
            "1998 is not a leap year\n"
          ]
        }
      ]
    },
    {
      "cell_type": "code",
      "source": [
        "year=int(input(\"enter a year\"))\n",
        "if year%4==0:\n",
        "  if year%100==0:\n",
        "    if year%400==0:\n",
        "      print(year,\"is a leap year\")\n",
        "    else:\n",
        "      print(year,\"is not a leap year\")\n",
        "  else:\n",
        "    print(year,\"is a leap year\")\n",
        "else:\n",
        "  print(year,\"is not a leap year\")"
      ],
      "metadata": {
        "colab": {
          "base_uri": "https://localhost:8080/"
        },
        "id": "5sXWBLHeN452",
        "outputId": "377465c8-039e-443b-9cb4-6ec530c598c2"
      },
      "execution_count": null,
      "outputs": [
        {
          "output_type": "stream",
          "name": "stdout",
          "text": [
            "enter a year1998\n",
            "1998 is not a leap year\n"
          ]
        }
      ]
    },
    {
      "cell_type": "code",
      "source": [
        "Marks=eval(input(\"Enter your marks:\"))\n",
        "if Marks >= 80:\n",
        "  print(\"A+\")\n",
        "elif Marks >= 75:\n",
        "  print(\"A\")\n",
        "elif Marks >= 70:\n",
        "  print(\"A-\")\n",
        "elif Marks >= 65:\n",
        "  print(\"B+\")\n",
        "elif Marks >=60:\n",
        "  print(\"B\")\n",
        "elif Marks >= 55:\n",
        "  print(\"B-\")\n",
        "elif Marks >= 50:\n",
        "  print(\"c+\")\n",
        "elif Marks >= 45:\n",
        "  print(\"c\")\n",
        "elif Marks >= 40:\n",
        "  print(\"D\")\n",
        "else:\n",
        "  print(\"F\")"
      ],
      "metadata": {
        "colab": {
          "base_uri": "https://localhost:8080/"
        },
        "id": "bsJIpJ4ZyeUL",
        "outputId": "59c2aaa9-b928-48b7-c950-20f7616f197d"
      },
      "execution_count": null,
      "outputs": [
        {
          "output_type": "stream",
          "name": "stdout",
          "text": [
            "Enter your marks:75\n",
            "A\n"
          ]
        }
      ]
    },
    {
      "cell_type": "code",
      "source": [
        "weigh=eval(input(\"Enter your weight in kg:-\"))\n",
        "height=eval(input(\"Enter your height in inch:-\"))\n",
        "height=(height*2.54)/100\n",
        "BMI=weigh/(height*height)\n",
        "print(\"Your BMI is:-\",BMI)\n",
        "if BMI >= 30:\n",
        "  print(\"Obesity\")\n",
        "elif BMI >= 25:\n",
        "  print(\"Over weight\")\n",
        "elif BMI >= 18:\n",
        "  print(\"Normal weight\")\n",
        "else:\n",
        "  print(\"Undrer weight\")"
      ],
      "metadata": {
        "colab": {
          "base_uri": "https://localhost:8080/"
        },
        "id": "dRncvQ_hysv8",
        "outputId": "5ef975bb-f39d-409c-81a2-78ea26cac0bd"
      },
      "execution_count": null,
      "outputs": [
        {
          "output_type": "stream",
          "name": "stdout",
          "text": [
            "Enter your weight in kg:-56\n",
            "Enter your height in inch:-60\n",
            "Your BMI is:- 24.111159333429775\n",
            "Normal weight\n"
          ]
        }
      ]
    },
    {
      "cell_type": "code",
      "source": [
        "import numpy\n",
        "mean=numpy.mean([50,60,70,80,80,90,50,100])\n",
        "print('The mean of these given nembers is=',mean)"
      ],
      "metadata": {
        "colab": {
          "base_uri": "https://localhost:8080/"
        },
        "id": "9D8ciSUBzImd",
        "outputId": "3bb12d1a-5fac-49af-d955-277a57cb83f4"
      },
      "execution_count": null,
      "outputs": [
        {
          "output_type": "stream",
          "name": "stdout",
          "text": [
            "The mean of these given nembers is= 72.5\n"
          ]
        }
      ]
    },
    {
      "cell_type": "code",
      "source": [
        "import numpy\n",
        "median=numpy.median([50,60,70,80,80,90,50,100])\n",
        "print('The median of these given nembers is=',median)"
      ],
      "metadata": {
        "colab": {
          "base_uri": "https://localhost:8080/"
        },
        "id": "EJQlw6tyzSyk",
        "outputId": "4cab8d6d-cc25-4f66-be38-02cf017999b7"
      },
      "execution_count": null,
      "outputs": [
        {
          "output_type": "stream",
          "name": "stdout",
          "text": [
            "The median of these given nembers is= 75.0\n"
          ]
        }
      ]
    },
    {
      "cell_type": "code",
      "source": [
        "from scipy import stats\n",
        "mode=stats.mode([50,60,70,80,80,80,90,50,100])\n",
        "print('The mode of these given nembers is=',mode)"
      ],
      "metadata": {
        "colab": {
          "base_uri": "https://localhost:8080/"
        },
        "id": "o8l909hTzb40",
        "outputId": "284e11b5-48bb-4515-9967-9cda99b675c0"
      },
      "execution_count": null,
      "outputs": [
        {
          "output_type": "stream",
          "name": "stdout",
          "text": [
            "The mode of these given nembers is= ModeResult(mode=np.int64(80), count=np.int64(3))\n"
          ]
        }
      ]
    },
    {
      "cell_type": "code",
      "source": [
        "Country=input(\"Enter your country:-\")\n",
        "saarc=['Bangladesh','Pakistan','India','Nepal','Bhutan']\n",
        "if Country in saarc:\n",
        "  print(\"You are a member of SAARC\")\n",
        "else:\n",
        "  print(\"You are not a member of SAARC\")"
      ],
      "metadata": {
        "colab": {
          "base_uri": "https://localhost:8080/"
        },
        "id": "8rNwmTZ_ziEc",
        "outputId": "87ec36cd-b809-4838-c21d-1c2bd4375192"
      },
      "execution_count": null,
      "outputs": [
        {
          "output_type": "stream",
          "name": "stdout",
          "text": [
            "Enter your country:-Bangladesh\n",
            "You are a member of SAARC\n"
          ]
        }
      ]
    },
    {
      "cell_type": "code",
      "source": [
        "Country=input(\"Enter your country:-\")\n",
        "if Country=='Bangladesh' or Country=='Pakistanor' or Country=='India' or Country=='Nepal' or Country=='Bhutan':\n",
        "  print(\"The country is in saarc\")\n",
        "else:\n",
        "  print(\"The country is not in saarc\")"
      ],
      "metadata": {
        "colab": {
          "base_uri": "https://localhost:8080/"
        },
        "id": "7AM4eSgHztGc",
        "outputId": "35287b08-8ff1-4e6d-9d59-b364a76a5f76"
      },
      "execution_count": null,
      "outputs": [
        {
          "output_type": "stream",
          "name": "stdout",
          "text": [
            "Enter your country:-Bangladesh\n",
            "The country is in saarc\n"
          ]
        }
      ]
    },
    {
      "cell_type": "code",
      "source": [
        "start=23\n",
        "end=50\n",
        "inc=2\n",
        "for i in range(start,end,inc):\n",
        "  print(i)"
      ],
      "metadata": {
        "colab": {
          "base_uri": "https://localhost:8080/"
        },
        "id": "u7ImNZha2tfQ",
        "outputId": "bee6b8fd-c6eb-468d-9b7f-eb81216eb534"
      },
      "execution_count": null,
      "outputs": [
        {
          "output_type": "stream",
          "name": "stdout",
          "text": [
            "23\n",
            "25\n",
            "27\n",
            "29\n",
            "31\n",
            "33\n",
            "35\n",
            "37\n",
            "39\n",
            "41\n",
            "43\n",
            "45\n",
            "47\n",
            "49\n"
          ]
        }
      ]
    },
    {
      "cell_type": "code",
      "source": [
        "start=2\n",
        "n=int(input(\"n=\"))\n",
        "for i in range(start,n+1,2):\n",
        "  print(i)"
      ],
      "metadata": {
        "id": "Ry0NFb8D8Ax-",
        "colab": {
          "base_uri": "https://localhost:8080/"
        },
        "outputId": "1b8c1d43-60cc-4c47-cef9-ef63e7d819cf"
      },
      "execution_count": null,
      "outputs": [
        {
          "output_type": "stream",
          "name": "stdout",
          "text": [
            "n=20\n",
            "2\n",
            "4\n",
            "6\n",
            "8\n",
            "10\n",
            "12\n",
            "14\n",
            "16\n",
            "18\n",
            "20\n"
          ]
        }
      ]
    },
    {
      "cell_type": "code",
      "source": [
        "fruits=[\"apple\",\"banana\",\"cherry\"]\n",
        "print(fruits)"
      ],
      "metadata": {
        "colab": {
          "base_uri": "https://localhost:8080/"
        },
        "id": "_aiIZd4b9SPe",
        "outputId": "312a60a5-74d5-420d-d247-c91c3fabe4ab"
      },
      "execution_count": null,
      "outputs": [
        {
          "output_type": "stream",
          "name": "stdout",
          "text": [
            "['apple', 'banana', 'cherry']\n"
          ]
        }
      ]
    },
    {
      "cell_type": "code",
      "source": [
        "fruits=[\"apple\",\"banana\",\"cherry\"]\n",
        "for x in fruits:\n",
        "  print(x)"
      ],
      "metadata": {
        "colab": {
          "base_uri": "https://localhost:8080/"
        },
        "id": "H7A7W8OY9sXW",
        "outputId": "c30a811a-b3f8-4a22-94d8-7e0aeeb42fd8"
      },
      "execution_count": null,
      "outputs": [
        {
          "output_type": "stream",
          "name": "stdout",
          "text": [
            "apple\n",
            "banana\n",
            "cherry\n"
          ]
        }
      ]
    },
    {
      "cell_type": "code",
      "source": [
        "fruits=[\"apple\",\"banana\",\"cherry\"]\n",
        "for x in fruits:\n",
        "  print(x)\n",
        "  if x==\"banana\":\n",
        "    break"
      ],
      "metadata": {
        "colab": {
          "base_uri": "https://localhost:8080/"
        },
        "id": "hCbkBpxBBJRk",
        "outputId": "02e5efc3-c86e-4c38-ce5c-df43cad8e1f5"
      },
      "execution_count": null,
      "outputs": [
        {
          "output_type": "stream",
          "name": "stdout",
          "text": [
            "apple\n",
            "banana\n"
          ]
        }
      ]
    },
    {
      "cell_type": "code",
      "source": [
        "fruits=[\"apple\",\"banana\",\"cherry\"]\n",
        "for x in fruits:\n",
        "  if x== \"banana\":\n",
        "    break\n",
        "  print(x)"
      ],
      "metadata": {
        "colab": {
          "base_uri": "https://localhost:8080/"
        },
        "id": "9TP8qB3k-C-H",
        "outputId": "cf5e6b26-c8ac-4bd5-9492-a43670c91979"
      },
      "execution_count": null,
      "outputs": [
        {
          "output_type": "stream",
          "name": "stdout",
          "text": [
            "apple\n"
          ]
        }
      ]
    },
    {
      "cell_type": "code",
      "source": [
        "fruits=[\"apple\",\"banana\",\"cherry\"]\n",
        "for x in fruits:\n",
        "  if x==\"banana\":\n",
        "    continue\n",
        "  print(x)"
      ],
      "metadata": {
        "colab": {
          "base_uri": "https://localhost:8080/"
        },
        "id": "CUMHGnlJAlS-",
        "outputId": "e007d876-b1ff-41b6-d10f-8fd1082d96fa"
      },
      "execution_count": null,
      "outputs": [
        {
          "output_type": "stream",
          "name": "stdout",
          "text": [
            "apple\n",
            "cherry\n"
          ]
        }
      ]
    },
    {
      "cell_type": "code",
      "source": [
        "for x in range(6):\n",
        "  print(x)"
      ],
      "metadata": {
        "colab": {
          "base_uri": "https://localhost:8080/"
        },
        "id": "WnS_r6EsAib2",
        "outputId": "f42d2c5f-5c6c-4f10-f90f-e942d6d8dd93"
      },
      "execution_count": null,
      "outputs": [
        {
          "output_type": "stream",
          "name": "stdout",
          "text": [
            "0\n",
            "1\n",
            "2\n",
            "3\n",
            "4\n",
            "5\n"
          ]
        }
      ]
    },
    {
      "cell_type": "code",
      "source": [
        "for x in range(2,6):\n",
        "  print(x)"
      ],
      "metadata": {
        "colab": {
          "base_uri": "https://localhost:8080/"
        },
        "id": "f5ZpygR8BeB-",
        "outputId": "36a60e57-a081-4d7a-b7ca-b46f13b0f262"
      },
      "execution_count": null,
      "outputs": [
        {
          "output_type": "stream",
          "name": "stdout",
          "text": [
            "2\n",
            "3\n",
            "4\n",
            "5\n"
          ]
        }
      ]
    },
    {
      "cell_type": "code",
      "source": [
        "for x in range(2,30,3):\n",
        "  print(x)"
      ],
      "metadata": {
        "colab": {
          "base_uri": "https://localhost:8080/"
        },
        "id": "FFcbr1ihBvm-",
        "outputId": "dc1119fd-6ef8-4519-c29c-f70435a84747"
      },
      "execution_count": null,
      "outputs": [
        {
          "output_type": "stream",
          "name": "stdout",
          "text": [
            "2\n",
            "5\n",
            "8\n",
            "11\n",
            "14\n",
            "17\n",
            "20\n",
            "23\n",
            "26\n",
            "29\n"
          ]
        }
      ]
    },
    {
      "cell_type": "code",
      "source": [
        "for x in range(6):\n",
        "  print(x)\n",
        "else:\n",
        "  print(\"finally finished\")"
      ],
      "metadata": {
        "colab": {
          "base_uri": "https://localhost:8080/"
        },
        "id": "K7j-qpjKCYRN",
        "outputId": "b11c0e25-da56-4115-eb09-deef6f4195a3"
      },
      "execution_count": null,
      "outputs": [
        {
          "output_type": "stream",
          "name": "stdout",
          "text": [
            "0\n",
            "1\n",
            "2\n",
            "3\n",
            "4\n",
            "5\n",
            "finally finished\n"
          ]
        }
      ]
    },
    {
      "cell_type": "code",
      "source": [
        "for x in range(6):\n",
        "  if x==3:break\n",
        "  print(x)\n",
        "else:\n",
        "    print(\"finally finished\")"
      ],
      "metadata": {
        "colab": {
          "base_uri": "https://localhost:8080/"
        },
        "id": "bEPk5xVtCtj1",
        "outputId": "943dec43-7737-4f68-a265-70fff7f71b84"
      },
      "execution_count": null,
      "outputs": [
        {
          "output_type": "stream",
          "name": "stdout",
          "text": [
            "0\n",
            "1\n",
            "2\n"
          ]
        }
      ]
    },
    {
      "cell_type": "code",
      "source": [
        "adj=[\"red\",\"big\",\"tasty\"]\n",
        "fruits=[\"banana\",\"apple\",\"cherry\"]\n",
        "animal=[\"cow\",\"dog\",\"cat\"]\n",
        "for x in adj:\n",
        "  for y in fruits:\n",
        "    for z in animal:\n",
        "     print(x,y,z)"
      ],
      "metadata": {
        "colab": {
          "base_uri": "https://localhost:8080/"
        },
        "id": "rf_iGN0HDaRE",
        "outputId": "c405961d-a429-4a2b-d0f2-f009f5c3177d"
      },
      "execution_count": null,
      "outputs": [
        {
          "output_type": "stream",
          "name": "stdout",
          "text": [
            "red banana cow\n",
            "red banana dog\n",
            "red banana cat\n",
            "red apple cow\n",
            "red apple dog\n",
            "red apple cat\n",
            "red cherry cow\n",
            "red cherry dog\n",
            "red cherry cat\n",
            "big banana cow\n",
            "big banana dog\n",
            "big banana cat\n",
            "big apple cow\n",
            "big apple dog\n",
            "big apple cat\n",
            "big cherry cow\n",
            "big cherry dog\n",
            "big cherry cat\n",
            "tasty banana cow\n",
            "tasty banana dog\n",
            "tasty banana cat\n",
            "tasty apple cow\n",
            "tasty apple dog\n",
            "tasty apple cat\n",
            "tasty cherry cow\n",
            "tasty cherry dog\n",
            "tasty cherry cat\n"
          ]
        }
      ]
    },
    {
      "cell_type": "code",
      "source": [
        "for x in [0,1,2]:\n",
        "  pass"
      ],
      "metadata": {
        "id": "uPYevsRGD6sd"
      },
      "execution_count": null,
      "outputs": []
    },
    {
      "cell_type": "code",
      "source": [
        "i=1\n",
        "while i<6:\n",
        "  print(i)\n",
        "  i+=1"
      ],
      "metadata": {
        "colab": {
          "base_uri": "https://localhost:8080/"
        },
        "id": "4er8PU1wEsP0",
        "outputId": "112ded7b-726a-4a9b-b03f-1d23b5564e96"
      },
      "execution_count": null,
      "outputs": [
        {
          "output_type": "stream",
          "name": "stdout",
          "text": [
            "1\n",
            "2\n",
            "3\n",
            "4\n",
            "5\n"
          ]
        }
      ]
    },
    {
      "cell_type": "code",
      "source": [
        "i=1\n",
        "while i<6:\n",
        "  print(i)\n",
        "  if i==3:\n",
        "    break\n",
        "  i+=1"
      ],
      "metadata": {
        "id": "qBOsaUhrFOGM",
        "colab": {
          "base_uri": "https://localhost:8080/"
        },
        "outputId": "5ee1333c-7f29-4edf-ea62-e4b494d71860"
      },
      "execution_count": null,
      "outputs": [
        {
          "output_type": "stream",
          "name": "stdout",
          "text": [
            "1\n",
            "2\n",
            "3\n"
          ]
        }
      ]
    },
    {
      "cell_type": "code",
      "source": [
        "i=0\n",
        "while i<6:\n",
        "  i+=1\n",
        "  if i==3:\n",
        "    continue\n",
        "  print(i)"
      ],
      "metadata": {
        "colab": {
          "base_uri": "https://localhost:8080/"
        },
        "id": "Rl_cEcLtGIWF",
        "outputId": "825b38c0-65cd-4ada-94b9-5698e1e9a40d"
      },
      "execution_count": null,
      "outputs": [
        {
          "output_type": "stream",
          "name": "stdout",
          "text": [
            "1\n",
            "2\n",
            "4\n",
            "5\n",
            "6\n"
          ]
        }
      ]
    },
    {
      "cell_type": "code",
      "source": [
        "i=1\n",
        "while i<6:\n",
        "  print(i)\n",
        "  i+=1\n",
        "else:\n",
        "  print(\"i is no longer less than 6\")"
      ],
      "metadata": {
        "colab": {
          "base_uri": "https://localhost:8080/"
        },
        "id": "tDrT9rCBGpML",
        "outputId": "f6e037a7-1fea-4a86-d048-28b1344052f5"
      },
      "execution_count": null,
      "outputs": [
        {
          "output_type": "stream",
          "name": "stdout",
          "text": [
            "1\n",
            "2\n",
            "3\n",
            "4\n",
            "5\n",
            "i is no longer less than 6\n"
          ]
        }
      ]
    },
    {
      "cell_type": "code",
      "source": [
        "def my_function():\n",
        "  print(\"hello from a function\")\n",
        "my_function()"
      ],
      "metadata": {
        "colab": {
          "base_uri": "https://localhost:8080/"
        },
        "id": "Kq14jJCeH9pE",
        "outputId": "76d85170-79a7-45b3-c49b-342c49e25f0d"
      },
      "execution_count": null,
      "outputs": [
        {
          "output_type": "stream",
          "name": "stdout",
          "text": [
            "hello from a function\n"
          ]
        }
      ]
    },
    {
      "cell_type": "code",
      "source": [
        "def my_function(fname):\n",
        "  print(fname+\"Refsnes\")\n",
        "my_function(\"email\")\n",
        "my_function(\"Tobias\")\n",
        "my_function(\"Linus\")"
      ],
      "metadata": {
        "colab": {
          "base_uri": "https://localhost:8080/"
        },
        "id": "Hjb4JT7aIV2l",
        "outputId": "f8158b9a-3ccf-4429-afff-6b4cca16320e"
      },
      "execution_count": null,
      "outputs": [
        {
          "output_type": "stream",
          "name": "stdout",
          "text": [
            "email Refsnes\n",
            "Tobias Refsnes\n",
            "Linus Refsnes\n"
          ]
        }
      ]
    },
    {
      "cell_type": "code",
      "source": [
        "def my_function(fname,lname):\n",
        "  print(fname+\" \"+lname)\n",
        "my_function(\"email\",\"Refsnes\")"
      ],
      "metadata": {
        "colab": {
          "base_uri": "https://localhost:8080/"
        },
        "id": "0UFBCxV-Jb5D",
        "outputId": "03544bb5-2b70-4627-fd94-af7b2ca74b21"
      },
      "execution_count": null,
      "outputs": [
        {
          "output_type": "stream",
          "name": "stdout",
          "text": [
            "email Refsnes\n"
          ]
        }
      ]
    },
    {
      "cell_type": "code",
      "source": [
        "def my_function(*kids):\n",
        "  print(\"the youngest child is\"+kids[2])\n",
        "my_function(\"email\",\"Tobias\",\"Linus\")"
      ],
      "metadata": {
        "colab": {
          "base_uri": "https://localhost:8080/"
        },
        "id": "PH0MRWLUKwdU",
        "outputId": "d2bb490d-05e5-4960-aa20-92261e3aa0e9"
      },
      "execution_count": null,
      "outputs": [
        {
          "output_type": "stream",
          "name": "stdout",
          "text": [
            "the youngest child isLinus\n"
          ]
        }
      ]
    },
    {
      "cell_type": "code",
      "source": [
        "def my_function(food):\n",
        "  for x in food:\n",
        "    print(x)\n",
        "fruits=[\"apple\",\"banana\",\"cherry\"]\n",
        "my_function(fruits)"
      ],
      "metadata": {
        "colab": {
          "base_uri": "https://localhost:8080/"
        },
        "id": "sO3qJVkeLEJT",
        "outputId": "f37f3b08-ae5b-45a0-af06-99b0bacc7a96"
      },
      "execution_count": null,
      "outputs": [
        {
          "output_type": "stream",
          "name": "stdout",
          "text": [
            "apple\n",
            "banana\n",
            "cherry\n"
          ]
        }
      ]
    },
    {
      "cell_type": "code",
      "source": [
        "def my_function(x):\n",
        "  return 5*x\n",
        "print(my_function(3))\n",
        "print(my_function(5))\n",
        "print(my_function(9))"
      ],
      "metadata": {
        "colab": {
          "base_uri": "https://localhost:8080/"
        },
        "id": "aBQAk3odLbXL",
        "outputId": "9b7b7d5b-3cc1-4ecc-8473-cee61c6df13a"
      },
      "execution_count": null,
      "outputs": [
        {
          "output_type": "stream",
          "name": "stdout",
          "text": [
            "15\n",
            "25\n",
            "45\n"
          ]
        }
      ]
    },
    {
      "cell_type": "code",
      "source": [
        "def my_function(x,/):\n",
        "  print(x)\n",
        "my_function(3)"
      ],
      "metadata": {
        "colab": {
          "base_uri": "https://localhost:8080/"
        },
        "id": "eWnxXd-vL6oL",
        "outputId": "4021fe36-ebab-4051-c761-9d2eea7398f9"
      },
      "execution_count": null,
      "outputs": [
        {
          "output_type": "stream",
          "name": "stdout",
          "text": [
            "3\n"
          ]
        }
      ]
    },
    {
      "cell_type": "code",
      "source": [
        "def multiply(a,b):\n",
        "  m=a*b\n",
        "  return m\n",
        "ans =multiply(10,12)\n",
        "print(ans)\n"
      ],
      "metadata": {
        "colab": {
          "base_uri": "https://localhost:8080/"
        },
        "id": "_bUStMUyMcQ7",
        "outputId": "ab164ea4-d637-45c8-e8fd-3b39c37235c6"
      },
      "execution_count": null,
      "outputs": [
        {
          "output_type": "stream",
          "name": "stdout",
          "text": [
            "120\n"
          ]
        }
      ]
    },
    {
      "cell_type": "code",
      "source": [
        "def bubble_sort(arr):\n",
        "  n=len(arr)\n",
        "  for i in range(n):\n",
        "    for j in range(0,n-i-1):\n",
        "      if arr[j]>arr[j+1]:\n",
        "        arr[j],arr[j+1]=arr[j+1],arr[j]\n",
        "  return arr\n",
        "arr=[64,34,25,12,22,11,90]\n",
        "print(\"original array:\",arr)\n",
        "sorted_arr=bubble_sort(arr)\n",
        "print(\"sorted array:\",sorted_arr)"
      ],
      "metadata": {
        "colab": {
          "base_uri": "https://localhost:8080/"
        },
        "id": "d0gogi20Uxel",
        "outputId": "391c6e7f-0539-4069-9996-2f74c2817b97"
      },
      "execution_count": null,
      "outputs": [
        {
          "output_type": "stream",
          "name": "stdout",
          "text": [
            "original array: [64, 34, 25, 12, 22, 11, 90]\n",
            "sorted array: [11, 12, 22, 25, 34, 64, 90]\n"
          ]
        }
      ]
    },
    {
      "cell_type": "code",
      "source": [
        "def add(a,b):\n",
        "  return a+b\n",
        "num1=(int(input(\"enter the first number\")))\n",
        "num2=(int(input(\"enter the second number\")))\n",
        "sum=add(num1,num2)\n",
        "print(f\"sum:{sum}\")"
      ],
      "metadata": {
        "colab": {
          "base_uri": "https://localhost:8080/"
        },
        "id": "CCPT_C02fQDv",
        "outputId": "d384fe31-4e5c-4019-ad35-722890731671"
      },
      "execution_count": null,
      "outputs": [
        {
          "output_type": "stream",
          "name": "stdout",
          "text": [
            "enter the first number30\n",
            "enter the second number40\n",
            "sum:70\n"
          ]
        }
      ]
    },
    {
      "cell_type": "code",
      "source": [
        "my_list=[1,2,3,'four',5.0]\n",
        "print(my_list[0])\n",
        "print(my_list[2])\n",
        "print(my_list[4])\n",
        "print(my_list[-2])\n",
        "slicelist=my_list[2:4]\n",
        "print(slicelist)\n",
        "my_list.insert(2,'new')\n",
        "print(my_list)\n",
        "my_list.remove('four')\n",
        "print(my_list)\n",
        "my_list.append(6)\n",
        "my_list[1]='two'\n",
        "my_list[3]=4\n",
        "print(my_list)\n",
        "slice_list=my_list[1:3]\n",
        "print(slice_list)\n",
        "for element in my_list:\n",
        "  print(element)"
      ],
      "metadata": {
        "colab": {
          "base_uri": "https://localhost:8080/"
        },
        "id": "wOeGhDg3g-kw",
        "outputId": "d982dd27-2bbe-44ee-8eb5-6a30beba3163"
      },
      "execution_count": null,
      "outputs": [
        {
          "output_type": "stream",
          "name": "stdout",
          "text": [
            "1\n",
            "3\n",
            "5.0\n",
            "four\n",
            "[3, 'four']\n",
            "[1, 2, 'new', 3, 'four', 5.0]\n",
            "[1, 2, 'new', 3, 5.0]\n",
            "[1, 'two', 'new', 4, 5.0, 6]\n",
            "['two', 'new']\n",
            "1\n",
            "two\n",
            "new\n",
            "4\n",
            "5.0\n",
            "6\n"
          ]
        }
      ]
    },
    {
      "cell_type": "code",
      "source": [
        "namelist=['harsh','pratik','bob','dhruv']\n",
        "print(namelist[1][-1])"
      ],
      "metadata": {
        "colab": {
          "base_uri": "https://localhost:8080/"
        },
        "id": "PakFDqTspZce",
        "outputId": "67ab8227-2776-4bc8-b280-03a052fe9e94"
      },
      "execution_count": null,
      "outputs": [
        {
          "output_type": "stream",
          "name": "stdout",
          "text": [
            "k\n"
          ]
        }
      ]
    },
    {
      "cell_type": "code",
      "source": [
        "list=[1,2,3,4]\n",
        "list.append([5,6,7,8])\n",
        "print(list)"
      ],
      "metadata": {
        "colab": {
          "base_uri": "https://localhost:8080/"
        },
        "id": "ahIABSPmqQ0A",
        "outputId": "937b1ae6-d8df-4cd6-ba00-86d61c331505"
      },
      "execution_count": null,
      "outputs": [
        {
          "output_type": "stream",
          "name": "stdout",
          "text": [
            "[1, 2, 3, 4, [5, 6, 7, 8]]\n"
          ]
        }
      ]
    },
    {
      "cell_type": "code",
      "source": [
        "li=[2,3.4,'orange','8','apples']\n",
        "li.append('mango')\n",
        "li.insert(6,5)\n",
        "print(li)"
      ],
      "metadata": {
        "colab": {
          "base_uri": "https://localhost:8080/"
        },
        "id": "uFM8JVB-uL-f",
        "outputId": "5738acf6-9854-477d-8789-8de546fa9c59"
      },
      "execution_count": null,
      "outputs": [
        {
          "output_type": "stream",
          "name": "stdout",
          "text": [
            "[2, 3.4, 'orange', '8', 'apples', 'mango', 5]\n"
          ]
        }
      ]
    },
    {
      "cell_type": "code",
      "source": [
        "firstname='sonia'\n",
        "secondname='Akter'\n",
        "latname='Metu'\n",
        "fullname=firstname+secondname+latname\n",
        "print(fullname)"
      ],
      "metadata": {
        "colab": {
          "base_uri": "https://localhost:8080/"
        },
        "id": "_VF28YLNv2M_",
        "outputId": "4743a637-ef5b-4140-c885-d6c120ce8270"
      },
      "execution_count": null,
      "outputs": [
        {
          "output_type": "stream",
          "name": "stdout",
          "text": [
            "soniaAkterMetu\n"
          ]
        }
      ]
    },
    {
      "cell_type": "code",
      "source": [
        "text='dhaka is The CAPITAL of bangLaDESH'\n",
        "print(text.upper())\n",
        "print(text.lower())\n",
        "print(text.title())"
      ],
      "metadata": {
        "colab": {
          "base_uri": "https://localhost:8080/"
        },
        "id": "_rZ-kPHBw6d2",
        "outputId": "c839df5b-29ae-4366-ebf4-96599a817f85"
      },
      "execution_count": null,
      "outputs": [
        {
          "output_type": "stream",
          "name": "stdout",
          "text": [
            "DHAKA IS THE CAPITAL OF BANGLADESH\n",
            "dhaka is the capital of bangladesh\n",
            "Dhaka Is The Capital Of Bangladesh\n"
          ]
        }
      ]
    },
    {
      "cell_type": "code",
      "source": [
        "my_dic={'name':'john','age':25,'city':'newyork'}\n",
        "print(my_dic['name'])\n",
        "print(my_dic['age'])\n",
        "print(my_dic['city'])\n",
        "my_dic['profession']=\"engineer\"\n",
        "print(my_dic)"
      ],
      "metadata": {
        "colab": {
          "base_uri": "https://localhost:8080/"
        },
        "id": "Fv58SpqpyFD3",
        "outputId": "494ff14e-bafd-45af-a329-46b7d5b3fa78"
      },
      "execution_count": null,
      "outputs": [
        {
          "output_type": "stream",
          "name": "stdout",
          "text": [
            "john\n",
            "25\n",
            "newyork\n",
            "{'name': 'john', 'age': 25, 'city': 'newyork', 'profession': 'engineer'}\n"
          ]
        }
      ]
    },
    {
      "cell_type": "code",
      "source": [
        "name ='Rudolph Lewis'\n",
        "age=63\n",
        "height=5.5\n",
        "weight=65\n",
        "occupation='tecnology'\n",
        "description=name+' is '+str(age)+' years old.'+' His height is:'+str(height)+'ft, weight is:'+str(weight)+' kilo and his occupation is:'+occupation+'.'\n",
        "print(description)"
      ],
      "metadata": {
        "colab": {
          "base_uri": "https://localhost:8080/"
        },
        "id": "Z1Y19rJj0Wu6",
        "outputId": "f435002e-06b3-41d0-bfde-aa51950cc92b"
      },
      "execution_count": null,
      "outputs": [
        {
          "output_type": "stream",
          "name": "stdout",
          "text": [
            "Rudolph Lewis is 63 years old. His height is:5.5ft, weight is:65 kilo and his occupation is:tecnology.\n"
          ]
        }
      ]
    },
    {
      "cell_type": "code",
      "source": [
        "name='Rudolph Lewis'\n",
        "age=63\n",
        "height=5.5\n",
        "weight=65\n",
        "occupation='teaching'\n",
        "description='{} is {} years old. His height is {} ft,weight is {} kilo and his occupation is: {}'.format(name,age,height,weight,occupation)\n",
        "print(description)"
      ],
      "metadata": {
        "colab": {
          "base_uri": "https://localhost:8080/"
        },
        "id": "2HmIk00p5qEl",
        "outputId": "61bf1aa1-0bba-4b0b-c501-6d1d670410ff"
      },
      "execution_count": null,
      "outputs": [
        {
          "output_type": "stream",
          "name": "stdout",
          "text": [
            "Rudolph Lewis is 63 years old. His height is 5.5 ft,weight is 65 kilo and his occupation is: teaching\n"
          ]
        }
      ]
    },
    {
      "cell_type": "code",
      "source": [
        "var='var'\n",
        "print('{:*>20}'.format(var))\n",
        "print('{:#<20}'.format(var))\n",
        "print('{:_^20}'.format(var))"
      ],
      "metadata": {
        "colab": {
          "base_uri": "https://localhost:8080/"
        },
        "id": "55ptl5OS7Mxg",
        "outputId": "72725ab3-67e8-4a49-c71f-99d14c788b3b"
      },
      "execution_count": null,
      "outputs": [
        {
          "output_type": "stream",
          "name": "stdout",
          "text": [
            "*****************var\n",
            "var#################\n",
            "________var_________\n"
          ]
        }
      ]
    },
    {
      "cell_type": "code",
      "source": [
        "name=input('please enter your name:')\n",
        "if name.lower().startswith('mrs.'):\n",
        "  print('hello Ma\\'m!')\n",
        "elif name.lower().startswith('mr'):\n",
        "  print('hello sir!')\n",
        "else:\n",
        "  print('hello')"
      ],
      "metadata": {
        "colab": {
          "base_uri": "https://localhost:8080/"
        },
        "id": "GpSk8CvX8FRo",
        "outputId": "54b88a8d-112e-4cf5-ab2c-58a514748416"
      },
      "execution_count": null,
      "outputs": [
        {
          "output_type": "stream",
          "name": "stdout",
          "text": [
            "please enter your name:metu\n",
            "hello\n"
          ]
        }
      ]
    },
    {
      "cell_type": "code",
      "source": [
        "set1={1,2,3}\n",
        "set2={3,4,5}\n",
        "union_set=set1.union(set2)\n",
        "intersection_set=set1.intersection(set2)\n",
        "difference_set=set1.difference(set2)\n",
        "sym_diff_set=set1.symmetric_difference(set2)\n",
        "print('union:',union_set)\n",
        "print('intersection:',intersection_set)\n",
        "print('difference:',difference_set)\n",
        "print('symmetric difference:',sym_diff_set)\n"
      ],
      "metadata": {
        "colab": {
          "base_uri": "https://localhost:8080/"
        },
        "id": "U4utrYMv93_X",
        "outputId": "1031ca62-dce0-4ee3-ad94-bbc95d09cc21"
      },
      "execution_count": null,
      "outputs": [
        {
          "output_type": "stream",
          "name": "stdout",
          "text": [
            "union: {1, 2, 3, 4, 5}\n",
            "intersection: {3}\n",
            "difference: {1, 2}\n",
            "symmetric difference: {1, 2, 4, 5}\n"
          ]
        }
      ]
    },
    {
      "cell_type": "code",
      "source": [
        "import pandas as pd\n",
        "file_path='/content/sample_data/iris.CSV'\n",
        "try:\n",
        "  df=pd.read_csv(file_path)\n",
        "  print(\"CSV file imported succesfully\")\n",
        "  print(df.head())\n",
        "except FileNotFoundError:\n",
        "  print(f\"file not found: {file_path}\")\n",
        "  print(\"please make sure the file is uploaded to your colab environment\")\n",
        "except Exception as e:\n",
        "  print(f\"an error occured: {e}\")\n"
      ],
      "metadata": {
        "id": "rS58LvPwrW-q",
        "colab": {
          "base_uri": "https://localhost:8080/"
        },
        "outputId": "5f488a9c-6808-488a-8486-39ed3ec08de6"
      },
      "execution_count": null,
      "outputs": [
        {
          "output_type": "stream",
          "name": "stdout",
          "text": [
            "file not found: /content/sample_data/iris.CSV\n",
            "please make sure the file is uploaded to your colab environment\n"
          ]
        }
      ]
    },
    {
      "cell_type": "code",
      "source": [
        "import pandas as pd\n",
        "\n",
        "csv_data = \"\"\"col1,col2,col3\n",
        "1,10,A\n",
        "2,20,B\n",
        "3,30,A\n",
        "4,40,C\n",
        "5,50,B\n",
        "6,60,A\n",
        "\"\"\"\n",
        "with open('sample.csv', 'w') as f:\n",
        "    f.write(csv_data)\n",
        "df = pd.read_csv('sample.csv')\n",
        "print(\"Original DataFrame:\")\n",
        "print(df)"
      ],
      "metadata": {
        "colab": {
          "base_uri": "https://localhost:8080/"
        },
        "id": "nz5ywhfd3VpR",
        "outputId": "7b9c66fc-9543-4338-930f-dfcafa2f8858"
      },
      "execution_count": null,
      "outputs": [
        {
          "output_type": "stream",
          "name": "stdout",
          "text": [
            "Original DataFrame:\n",
            "   col1  col2 col3\n",
            "0     1    10    A\n",
            "1     2    20    B\n",
            "2     3    30    A\n",
            "3     4    40    C\n",
            "4     5    50    B\n",
            "5     6    60    A\n"
          ]
        }
      ]
    },
    {
      "cell_type": "code",
      "source": [
        "print(df.shape)"
      ],
      "metadata": {
        "colab": {
          "base_uri": "https://localhost:8080/"
        },
        "id": "Cpzwzris38VJ",
        "outputId": "2987625b-ae5f-4d1d-9e14-084cf63b0b9f"
      },
      "execution_count": null,
      "outputs": [
        {
          "output_type": "stream",
          "name": "stdout",
          "text": [
            "(6, 3)\n"
          ]
        }
      ]
    },
    {
      "cell_type": "code",
      "source": [
        "print(df.info())"
      ],
      "metadata": {
        "colab": {
          "base_uri": "https://localhost:8080/"
        },
        "id": "_QbXxOSv103U",
        "outputId": "d90f56c6-b5e1-4e75-950d-b89b19e12882"
      },
      "execution_count": null,
      "outputs": [
        {
          "output_type": "stream",
          "name": "stdout",
          "text": [
            "<class 'pandas.core.frame.DataFrame'>\n",
            "RangeIndex: 6 entries, 0 to 5\n",
            "Data columns (total 3 columns):\n",
            " #   Column  Non-Null Count  Dtype \n",
            "---  ------  --------------  ----- \n",
            " 0   col1    6 non-null      int64 \n",
            " 1   col2    6 non-null      int64 \n",
            " 2   col3    6 non-null      object\n",
            "dtypes: int64(2), object(1)\n",
            "memory usage: 276.0+ bytes\n",
            "None\n"
          ]
        }
      ]
    },
    {
      "cell_type": "code",
      "source": [
        "print(df.describe())"
      ],
      "metadata": {
        "colab": {
          "base_uri": "https://localhost:8080/"
        },
        "id": "6EuI-O6B2Sn0",
        "outputId": "28bd7f8e-ef81-4c04-cddb-47b799a91f6c"
      },
      "execution_count": null,
      "outputs": [
        {
          "output_type": "stream",
          "name": "stdout",
          "text": [
            "           col1       col2\n",
            "count  6.000000   6.000000\n",
            "mean   3.500000  35.000000\n",
            "std    1.870829  18.708287\n",
            "min    1.000000  10.000000\n",
            "25%    2.250000  22.500000\n",
            "50%    3.500000  35.000000\n",
            "75%    4.750000  47.500000\n",
            "max    6.000000  60.000000\n"
          ]
        }
      ]
    },
    {
      "cell_type": "code",
      "source": [
        "import csv\n",
        "with open('Iris.csv',mode='r') as file:\n",
        "  csvFile=csv.reader(file)\n",
        "  for lines in csvFile:\n",
        "    print(lines)"
      ],
      "metadata": {
        "colab": {
          "base_uri": "https://localhost:8080/"
        },
        "id": "nIXZ4o9T4Sox",
        "outputId": "881f2ec4-485d-4af3-df23-2da80d49f582"
      },
      "execution_count": null,
      "outputs": [
        {
          "output_type": "stream",
          "name": "stdout",
          "text": [
            "['Id', 'SepalLengthCm', 'SepalWidthCm', 'PetalLengthCm', 'PetalWidthCm', 'Species']\n",
            "['1', '5.1', '3.5', '1.4', '0.2', 'Iris-setosa']\n",
            "['2', '4.9', '3.0', '1.4', '0.2', 'Iris-setosa']\n",
            "['3', '4.7', '3.2', '1.3', '0.2', 'Iris-setosa']\n",
            "['4', '4.6', '3.1', '1.5', '0.2', 'Iris-setosa']\n",
            "['5', '5.0', '3.6', '1.4', '0.2', 'Iris-setosa']\n",
            "['6', '5.4', '3.9', '1.7', '0.4', 'Iris-setosa']\n",
            "['7', '4.6', '3.4', '1.4', '0.3', 'Iris-setosa']\n",
            "['8', '5.0', '3.4', '1.5', '0.2', 'Iris-setosa']\n",
            "['9', '4.4', '2.9', '1.4', '0.2', 'Iris-setosa']\n",
            "['10', '4.9', '3.1', '1.5', '0.1', 'Iris-setosa']\n",
            "['11', '5.4', '3.7', '1.5', '0.2', 'Iris-setosa']\n",
            "['12', '4.8', '3.4', '1.6', '0.2', 'Iris-setosa']\n",
            "['13', '4.8', '3.0', '1.4', '0.1', 'Iris-setosa']\n",
            "['14', '4.3', '3.0', '1.1', '0.1', 'Iris-setosa']\n",
            "['15', '5.8', '4.0', '1.2', '0.2', 'Iris-setosa']\n",
            "['16', '5.7', '4.4', '1.5', '0.4', 'Iris-setosa']\n",
            "['17', '5.4', '3.9', '1.3', '0.4', 'Iris-setosa']\n",
            "['18', '5.1', '3.5', '1.4', '0.3', 'Iris-setosa']\n",
            "['19', '5.7', '3.8', '1.7', '0.3', 'Iris-setosa']\n",
            "['20', '5.1', '3.8', '1.5', '0.3', 'Iris-setosa']\n",
            "['21', '5.4', '3.4', '1.7', '0.2', 'Iris-setosa']\n",
            "['22', '5.1', '3.7', '1.5', '0.4', 'Iris-setosa']\n",
            "['23', '4.6', '3.6', '1.0', '0.2', 'Iris-setosa']\n",
            "['24', '5.1', '3.3', '1.7', '0.5', 'Iris-setosa']\n",
            "['25', '4.8', '3.4', '1.9', '0.2', 'Iris-setosa']\n",
            "['26', '5.0', '3.0', '1.6', '0.2', 'Iris-setosa']\n",
            "['27', '5.0', '3.4', '1.6', '0.4', 'Iris-setosa']\n",
            "['28', '5.2', '3.5', '1.5', '0.2', 'Iris-setosa']\n",
            "['29', '5.2', '3.4', '1.4', '0.2', 'Iris-setosa']\n",
            "['30', '4.7', '3.2', '1.6', '0.2', 'Iris-setosa']\n",
            "['31', '4.8', '3.1', '1.6', '0.2', 'Iris-setosa']\n",
            "['32', '5.4', '3.4', '1.5', '0.4', 'Iris-setosa']\n",
            "['33', '5.2', '4.1', '1.5', '0.1', 'Iris-setosa']\n",
            "['34', '5.5', '4.2', '1.4', '0.2', 'Iris-setosa']\n",
            "['35', '4.9', '3.1', '1.5', '0.1', 'Iris-setosa']\n",
            "['36', '5.0', '3.2', '1.2', '0.2', 'Iris-setosa']\n",
            "['37', '5.5', '3.5', '1.3', '0.2', 'Iris-setosa']\n",
            "['38', '4.9', '3.1', '1.5', '0.1', 'Iris-setosa']\n",
            "['39', '4.4', '3.0', '1.3', '0.2', 'Iris-setosa']\n",
            "['40', '5.1', '3.4', '1.5', '0.2', 'Iris-setosa']\n",
            "['41', '5.0', '3.5', '1.3', '0.3', 'Iris-setosa']\n",
            "['42', '4.5', '2.3', '1.3', '0.3', 'Iris-setosa']\n",
            "['43', '4.4', '3.2', '1.3', '0.2', 'Iris-setosa']\n",
            "['44', '5.0', '3.5', '1.6', '0.6', 'Iris-setosa']\n",
            "['45', '5.1', '3.8', '1.9', '0.4', 'Iris-setosa']\n",
            "['46', '4.8', '3.0', '1.4', '0.3', 'Iris-setosa']\n",
            "['47', '5.1', '3.8', '1.6', '0.2', 'Iris-setosa']\n",
            "['48', '4.6', '3.2', '1.4', '0.2', 'Iris-setosa']\n",
            "['49', '5.3', '3.7', '1.5', '0.2', 'Iris-setosa']\n",
            "['50', '5.0', '3.3', '1.4', '0.2', 'Iris-setosa']\n",
            "['51', '7.0', '3.2', '4.7', '1.4', 'Iris-versicolor']\n",
            "['52', '6.4', '3.2', '4.5', '1.5', 'Iris-versicolor']\n",
            "['53', '6.9', '3.1', '4.9', '1.5', 'Iris-versicolor']\n",
            "['54', '5.5', '2.3', '4.0', '1.3', 'Iris-versicolor']\n",
            "['55', '6.5', '2.8', '4.6', '1.5', 'Iris-versicolor']\n",
            "['56', '5.7', '2.8', '4.5', '1.3', 'Iris-versicolor']\n",
            "['57', '6.3', '3.3', '4.7', '1.6', 'Iris-versicolor']\n",
            "['58', '4.9', '2.4', '3.3', '1.0', 'Iris-versicolor']\n",
            "['59', '6.6', '2.9', '4.6', '1.3', 'Iris-versicolor']\n",
            "['60', '5.2', '2.7', '3.9', '1.4', 'Iris-versicolor']\n",
            "['61', '5.0', '2.0', '3.5', '1.0', 'Iris-versicolor']\n",
            "['62', '5.9', '3.0', '4.2', '1.5', 'Iris-versicolor']\n",
            "['63', '6.0', '2.2', '4.0', '1.0', 'Iris-versicolor']\n",
            "['64', '6.1', '2.9', '4.7', '1.4', 'Iris-versicolor']\n",
            "['65', '5.6', '2.9', '3.6', '1.3', 'Iris-versicolor']\n",
            "['66', '6.7', '3.1', '4.4', '1.4', 'Iris-versicolor']\n",
            "['67', '5.6', '3.0', '4.5', '1.5', 'Iris-versicolor']\n",
            "['68', '5.8', '2.7', '4.1', '1.0', 'Iris-versicolor']\n",
            "['69', '6.2', '2.2', '4.5', '1.5', 'Iris-versicolor']\n",
            "['70', '5.6', '2.5', '3.9', '1.1', 'Iris-versicolor']\n",
            "['71', '5.9', '3.2', '4.8', '1.8', 'Iris-versicolor']\n",
            "['72', '6.1', '2.8', '4.0', '1.3', 'Iris-versicolor']\n",
            "['73', '6.3', '2.5', '4.9', '1.5', 'Iris-versicolor']\n",
            "['74', '6.1', '2.8', '4.7', '1.2', 'Iris-versicolor']\n",
            "['75', '6.4', '2.9', '4.3', '1.3', 'Iris-versicolor']\n",
            "['76', '6.6', '3.0', '4.4', '1.4', 'Iris-versicolor']\n",
            "['77', '6.8', '2.8', '4.8', '1.4', 'Iris-versicolor']\n",
            "['78', '6.7', '3.0', '5.0', '1.7', 'Iris-versicolor']\n",
            "['79', '6.0', '2.9', '4.5', '1.5', 'Iris-versicolor']\n",
            "['80', '5.7', '2.6', '3.5', '1.0', 'Iris-versicolor']\n",
            "['81', '5.5', '2.4', '3.8', '1.1', 'Iris-versicolor']\n",
            "['82', '5.5', '2.4', '3.7', '1.0', 'Iris-versicolor']\n",
            "['83', '5.8', '2.7', '3.9', '1.2', 'Iris-versicolor']\n",
            "['84', '6.0', '2.7', '5.1', '1.6', 'Iris-versicolor']\n",
            "['85', '5.4', '3.0', '4.5', '1.5', 'Iris-versicolor']\n",
            "['86', '6.0', '3.4', '4.5', '1.6', 'Iris-versicolor']\n",
            "['87', '6.7', '3.1', '4.7', '1.5', 'Iris-versicolor']\n",
            "['88', '6.3', '2.3', '4.4', '1.3', 'Iris-versicolor']\n",
            "['89', '5.6', '3.0', '4.1', '1.3', 'Iris-versicolor']\n",
            "['90', '5.5', '2.5', '4.0', '1.3', 'Iris-versicolor']\n",
            "['91', '5.5', '2.6', '4.4', '1.2', 'Iris-versicolor']\n",
            "['92', '6.1', '3.0', '4.6', '1.4', 'Iris-versicolor']\n",
            "['93', '5.8', '2.6', '4.0', '1.2', 'Iris-versicolor']\n",
            "['94', '5.0', '2.3', '3.3', '1.0', 'Iris-versicolor']\n",
            "['95', '5.6', '2.7', '4.2', '1.3', 'Iris-versicolor']\n",
            "['96', '5.7', '3.0', '4.2', '1.2', 'Iris-versicolor']\n",
            "['97', '5.7', '2.9', '4.2', '1.3', 'Iris-versicolor']\n",
            "['98', '6.2', '2.9', '4.3', '1.3', 'Iris-versicolor']\n",
            "['99', '5.1', '2.5', '3.0', '1.1', 'Iris-versicolor']\n",
            "['100', '5.7', '2.8', '4.1', '1.3', 'Iris-versicolor']\n",
            "['101', '6.3', '3.3', '6.0', '2.5', 'Iris-virginica']\n",
            "['102', '5.8', '2.7', '5.1', '1.9', 'Iris-virginica']\n",
            "['103', '7.1', '3.0', '5.9', '2.1', 'Iris-virginica']\n",
            "['104', '6.3', '2.9', '5.6', '1.8', 'Iris-virginica']\n",
            "['105', '6.5', '3.0', '5.8', '2.2', 'Iris-virginica']\n",
            "['106', '7.6', '3.0', '6.6', '2.1', 'Iris-virginica']\n",
            "['107', '4.9', '2.5', '4.5', '1.7', 'Iris-virginica']\n",
            "['108', '7.3', '2.9', '6.3', '1.8', 'Iris-virginica']\n",
            "['109', '6.7', '2.5', '5.8', '1.8', 'Iris-virginica']\n",
            "['110', '7.2', '3.6', '6.1', '2.5', 'Iris-virginica']\n",
            "['111', '6.5', '3.2', '5.1', '2.0', 'Iris-virginica']\n",
            "['112', '6.4', '2.7', '5.3', '1.9', 'Iris-virginica']\n",
            "['113', '6.8', '3.0', '5.5', '2.1', 'Iris-virginica']\n",
            "['114', '5.7', '2.5', '5.0', '2.0', 'Iris-virginica']\n",
            "['115', '5.8', '2.8', '5.1', '2.4', 'Iris-virginica']\n",
            "['116', '6.4', '3.2', '5.3', '2.3', 'Iris-virginica']\n",
            "['117', '6.5', '3.0', '5.5', '1.8', 'Iris-virginica']\n",
            "['118', '7.7', '3.8', '6.7', '2.2', 'Iris-virginica']\n",
            "['119', '7.7', '2.6', '6.9', '2.3', 'Iris-virginica']\n",
            "['120', '6.0', '2.2', '5.0', '1.5', 'Iris-virginica']\n",
            "['121', '6.9', '3.2', '5.7', '2.3', 'Iris-virginica']\n",
            "['122', '5.6', '2.8', '4.9', '2.0', 'Iris-virginica']\n",
            "['123', '7.7', '2.8', '6.7', '2.0', 'Iris-virginica']\n",
            "['124', '6.3', '2.7', '4.9', '1.8', 'Iris-virginica']\n",
            "['125', '6.7', '3.3', '5.7', '2.1', 'Iris-virginica']\n",
            "['126', '7.2', '3.2', '6.0', '1.8', 'Iris-virginica']\n",
            "['127', '6.2', '2.8', '4.8', '1.8', 'Iris-virginica']\n",
            "['128', '6.1', '3.0', '4.9', '1.8', 'Iris-virginica']\n",
            "['129', '6.4', '2.8', '5.6', '2.1', 'Iris-virginica']\n",
            "['130', '7.2', '3.0', '5.8', '1.6', 'Iris-virginica']\n",
            "['131', '7.4', '2.8', '6.1', '1.9', 'Iris-virginica']\n",
            "['132', '7.9', '3.8', '6.4', '2.0', 'Iris-virginica']\n",
            "['133', '6.4', '2.8', '5.6', '2.2', 'Iris-virginica']\n",
            "['134', '6.3', '2.8', '5.1', '1.5', 'Iris-virginica']\n",
            "['135', '6.1', '2.6', '5.6', '1.4', 'Iris-virginica']\n",
            "['136', '7.7', '3.0', '6.1', '2.3', 'Iris-virginica']\n",
            "['137', '6.3', '3.4', '5.6', '2.4', 'Iris-virginica']\n",
            "['138', '6.4', '3.1', '5.5', '1.8', 'Iris-virginica']\n",
            "['139', '6.0', '3.0', '4.8', '1.8', 'Iris-virginica']\n",
            "['140', '6.9', '3.1', '5.4', '2.1', 'Iris-virginica']\n",
            "['141', '6.7', '3.1', '5.6', '2.4', 'Iris-virginica']\n",
            "['142', '6.9', '3.1', '5.1', '2.3', 'Iris-virginica']\n",
            "['143', '5.8', '2.7', '5.1', '1.9', 'Iris-virginica']\n",
            "['144', '6.8', '3.2', '5.9', '2.3', 'Iris-virginica']\n",
            "['145', '6.7', '3.3', '5.7', '2.5', 'Iris-virginica']\n",
            "['146', '6.7', '3.0', '5.2', '2.3', 'Iris-virginica']\n",
            "['147', '6.3', '2.5', '5.0', '1.9', 'Iris-virginica']\n",
            "['148', '6.5', '3.0', '5.2', '2.0', 'Iris-virginica']\n",
            "['149', '6.2', '3.4', '5.4', '2.3', 'Iris-virginica']\n",
            "['150', '5.9', '3.0', '5.1', '1.8', 'Iris-virginica']\n"
          ]
        }
      ]
    },
    {
      "cell_type": "markdown",
      "source": [],
      "metadata": {
        "id": "cIZnZxzo2-Uk"
      }
    },
    {
      "cell_type": "code",
      "source": [
        "import pandas as pd\n",
        "df=pd.read_csv('Iris.csv')\n",
        "print(df.head())"
      ],
      "metadata": {
        "colab": {
          "base_uri": "https://localhost:8080/"
        },
        "id": "mdq1ROot25ic",
        "outputId": "8bcc21ff-19db-47e7-b4af-c8b6a2b5d2f4"
      },
      "execution_count": null,
      "outputs": [
        {
          "output_type": "stream",
          "name": "stdout",
          "text": [
            "   Id  SepalLengthCm  SepalWidthCm  PetalLengthCm  PetalWidthCm      Species\n",
            "0   1            5.1           3.5            1.4           0.2  Iris-setosa\n",
            "1   2            4.9           3.0            1.4           0.2  Iris-setosa\n",
            "2   3            4.7           3.2            1.3           0.2  Iris-setosa\n",
            "3   4            4.6           3.1            1.5           0.2  Iris-setosa\n",
            "4   5            5.0           3.6            1.4           0.2  Iris-setosa\n"
          ]
        }
      ]
    },
    {
      "cell_type": "code",
      "source": [
        "import csv\n",
        "data=[\n",
        "    {'name':'Nikhil','brance':'COE','year':'2','cgpa':'9.0'},\n",
        "    {'name':'Sanchit','brance':'COE','year':'2','cgpa':'9.1'},\n",
        "    {'name':'Aditya','brance':'IT','year':'2','cgpa':'9.3'},\n",
        "    {'name':'Sagar','brance':'SE','year':'1','cgpa':'9.5'},\n",
        "    {'name':'Prateek','brance':'MCE','year':'3','cgpa':'7.8'},\n",
        "     {'name':'Sahil','brance':'EP','year':'2','cgpa':'9.1'}\n",
        "]\n",
        "with open('university_records.csv','w',newline='')as csvfile:\n",
        "  fieldnames=['name','brance','year','cgpa']\n",
        "  writer=csv.DictWriter(csvfile,fieldnames=fieldnames)\n",
        "  writer.writeheader()\n",
        "  writer.writerows(data)"
      ],
      "metadata": {
        "id": "IVwm1IYC5jbj"
      },
      "execution_count": null,
      "outputs": []
    },
    {
      "cell_type": "code",
      "source": [
        "import pandas as pd\n",
        "url = 'https://media.geeksforgeeks.org/wp-content/uploads/20240208132839/student_data2.csv'\n",
        "df=pd.read_csv(url)\n",
        "print(df)"
      ],
      "metadata": {
        "colab": {
          "base_uri": "https://localhost:8080/"
        },
        "id": "vZ_qMLbEslVP",
        "outputId": "96e04c13-32c1-4106-f7f5-8cfdd8f2a262"
      },
      "execution_count": null,
      "outputs": [
        {
          "output_type": "stream",
          "name": "stdout",
          "text": [
            "      name         subject  class   fees  fine\n",
            "0     Arun           Maths      9   9000   400\n",
            "1   Aniket  Social Science     10  12000   600\n",
            "2   Ishita         English     11  15000     0\n",
            "3  Pranjal         Science     12  18000  1000\n",
            "4  Vinayak        Computer     12  18000   500\n"
          ]
        }
      ]
    },
    {
      "cell_type": "code",
      "source": [
        "mean_value=df['fees'].mean()\n",
        "print('Mean Value: '+str(mean_value))"
      ],
      "metadata": {
        "colab": {
          "base_uri": "https://localhost:8080/"
        },
        "id": "Dcv-THoxtoP3",
        "outputId": "85c9bb64-1ee1-400a-b0fb-c52a8470d08d"
      },
      "execution_count": null,
      "outputs": [
        {
          "output_type": "stream",
          "name": "stdout",
          "text": [
            "Mean Value: 14400.0\n"
          ]
        }
      ]
    },
    {
      "cell_type": "code",
      "source": [
        "median_value=df['fees'].median()\n",
        "print('Median Value: '+str(median_value))"
      ],
      "metadata": {
        "colab": {
          "base_uri": "https://localhost:8080/"
        },
        "id": "e829TOOpuXt6",
        "outputId": "0f6c399c-e2ab-44da-eb7c-07e58ecd094b"
      },
      "execution_count": null,
      "outputs": [
        {
          "output_type": "stream",
          "name": "stdout",
          "text": [
            "Median Value: 15000.0\n"
          ]
        }
      ]
    },
    {
      "cell_type": "code",
      "source": [
        "mode_value=df['fees'].mode()\n",
        "print('Mode Value: '+str(mode_value))"
      ],
      "metadata": {
        "colab": {
          "base_uri": "https://localhost:8080/"
        },
        "id": "7Gynx0VGua16",
        "outputId": "965137cc-d5c6-4980-8c00-1956159afee6"
      },
      "execution_count": null,
      "outputs": [
        {
          "output_type": "stream",
          "name": "stdout",
          "text": [
            "Mode Value: 0    18000\n",
            "Name: fees, dtype: int64\n"
          ]
        }
      ]
    },
    {
      "cell_type": "code",
      "source": [
        "min_value=df['fees'].min()\n",
        "print('Minimum Value: '+str(min_value))"
      ],
      "metadata": {
        "colab": {
          "base_uri": "https://localhost:8080/"
        },
        "id": "IkHoLUEMuwba",
        "outputId": "41b9d6ea-b17f-47fa-f9db-ed7c3ee5400f"
      },
      "execution_count": null,
      "outputs": [
        {
          "output_type": "stream",
          "name": "stdout",
          "text": [
            "Minimum Value: 9000\n"
          ]
        }
      ]
    },
    {
      "cell_type": "code",
      "source": [
        "sum_value = df['fees'].sum()\n",
        "print('Sum Value: '+str(sum_value))\n",
        "count_value=df['fees'].count()\n",
        "print('Count Value: '+str(count_value))"
      ],
      "metadata": {
        "colab": {
          "base_uri": "https://localhost:8080/"
        },
        "id": "Gg5e4BObu3Ph",
        "outputId": "c31722f9-e723-43ea-f876-f69f3d9606f0"
      },
      "execution_count": null,
      "outputs": [
        {
          "output_type": "stream",
          "name": "stdout",
          "text": [
            "Sum Value: 72000\n",
            "Count Value: 5\n"
          ]
        }
      ]
    },
    {
      "cell_type": "code",
      "source": [
        "std_value=df['fees'].std()\n",
        "print('Standard Deviation Value: '+str(std_value))\n",
        "var_value=df['fees'].var()\n",
        "print('Variance Value: '+str(var_value))"
      ],
      "metadata": {
        "id": "aJAPNU8Zvs0a",
        "outputId": "f4e90e30-c5bf-4967-c939-7d88cd7ed935",
        "colab": {
          "base_uri": "https://localhost:8080/"
        }
      },
      "execution_count": null,
      "outputs": [
        {
          "output_type": "stream",
          "name": "stdout",
          "text": [
            "Standard Deviation Value: 3911.521443121589\n",
            "Variance Value: 15300000.0\n"
          ]
        }
      ]
    },
    {
      "cell_type": "code",
      "source": [
        "import seaborn as sns\n",
        "import matplotlib.pyplot as plt\n",
        "sns.pairplot(df.drop(['Id'], axis=1), hue='Species', height=2)"
      ],
      "metadata": {
        "colab": {
          "base_uri": "https://localhost:8080/",
          "height": 814
        },
        "id": "LTHaBHJ8qylh",
        "outputId": "1b5d4b7d-f5f9-45d0-9a01-fbefbf786053"
      },
      "execution_count": null,
      "outputs": [
        {
          "output_type": "execute_result",
          "data": {
            "text/plain": [
              "<seaborn.axisgrid.PairGrid at 0x79e41750b410>"
            ]
          },
          "metadata": {},
          "execution_count": 3
        },
        {
          "output_type": "display_data",
          "data": {
            "text/plain": [
              "<Figure size 943x800 with 20 Axes>"
            ],
            "image/png": "[encoded data removed]"
          },
          "metadata": {}
        }
      ]
    },
    {
      "cell_type": "code",
      "source": [
        "import matplotlib.pyplot as plt\n",
        "x=[1,2,3,4,5]\n",
        "y=[2,3,5,7,11]\n",
        "plt.plot(x,y)\n",
        "plt.title('Line Plot Example')\n",
        "plt.xlabel('X axis')\n",
        "plt.ylabel('Y axis')\n",
        "plt.show()"
      ],
      "metadata": {
        "colab": {
          "base_uri": "https://localhost:8080/",
          "height": 472
        },
        "id": "_FmUvgLKC5K0",
        "outputId": "a74dbbbc-202a-4a54-a638-10cbcb458edd"
      },
      "execution_count": null,
      "outputs": [
        {
          "output_type": "display_data",
          "data": {
            "text/plain": [
              "<Figure size 640x480 with 1 Axes>"
            ],
            "image/png": "[encoded data removed]"
          },
          "metadata": {}
        }
      ]
    },
    {
      "cell_type": "code",
      "source": [
        "import seaborn as sns\n",
        "import matplotlib.pyplot as plt\n",
        "tips=sns.load_dataset('tips')\n",
        "sns.scatterplot(x='total_bill',y='tip',data=tips)\n",
        "plt.title('Total Bill vs Tip')\n",
        "plt.show()"
      ],
      "metadata": {
        "colab": {
          "base_uri": "https://localhost:8080/",
          "height": 472
        },
        "id": "UN-THVgPDgtU",
        "outputId": "d3e58af3-8e70-4476-bc2b-0de220f8f114"
      },
      "execution_count": null,
      "outputs": [
        {
          "output_type": "display_data",
          "data": {
            "text/plain": [
              "<Figure size 640x480 with 1 Axes>"
            ],
            "image/png": "[encoded data removed]"
          },
          "metadata": {}
        }
      ]
    },
    {
      "cell_type": "code",
      "source": [
        "import matplotlib.pyplot as plt\n",
        "import seaborn as sns\n",
        "import pandas as pd\n",
        "import numpy as np\n",
        "data={\"Category\":[\"A\",\"B\",\"C\",\"D\",\"E\"], \"Values\":[23,45,56,78,33],\"Values2\":[12,34,45,67,89]}\n",
        "df=pd.DataFrame(data)\n",
        "print(df)\n",
        "sns.boxplot(data=df)\n",
        "plt.show()\n",
        "plt.plot(data['Category'],data['Values'],data['Values2'])\n",
        "plt.xlabel('Values')\n",
        "plt.ylabel('Values2')\n",
        "plt.show()"
      ],
      "metadata": {
        "colab": {
          "base_uri": "https://localhost:8080/",
          "height": 966
        },
        "id": "WMgWGx5fFya7",
        "outputId": "6a203300-4a3e-49e8-c8c7-7efaa15ed28b"
      },
      "execution_count": null,
      "outputs": [
        {
          "output_type": "stream",
          "name": "stdout",
          "text": [
            "  Category  Values  Values2\n",
            "0        A      23       12\n",
            "1        B      45       34\n",
            "2        C      56       45\n",
            "3        D      78       67\n",
            "4        E      33       89\n"
          ]
        },
        {
          "output_type": "display_data",
          "data": {
            "text/plain": [
              "<Figure size 640x480 with 1 Axes>"
            ],
            "image/png": "[encoded data removed]"
          },
          "metadata": {}
        },
        {
          "output_type": "display_data",
          "data": {
            "text/plain": [
              "<Figure size 640x480 with 1 Axes>"
            ],
            "image/png": "[encoded data removed]"
          },
          "metadata": {}
        }
      ]
    },
    {
      "cell_type": "code",
      "source": [
        "import matplotlib.pyplot as plt\n",
        "import seaborn as sns\n",
        "import pandas as pd\n",
        "import numpy as np\n",
        "data={ \"Values\":[35,37,39,40],\"Values2\":[40,41,43,45]}\n",
        "data=pd.DataFrame(data)\n",
        "correlation_matrix=data.corr()\n",
        "sns.heatmap(correlation_matrix,annot=True,cmap='coolwarm')\n",
        "plt.show()"
      ],
      "metadata": {
        "colab": {
          "base_uri": "https://localhost:8080/",
          "height": 435
        },
        "id": "jQ5Qg4tlPClj",
        "outputId": "a53569cf-f64b-45f8-d981-0f2b54aab63f"
      },
      "execution_count": null,
      "outputs": [
        {
          "output_type": "display_data",
          "data": {
            "text/plain": [
              "<Figure size 640x480 with 2 Axes>"
            ],
            "image/png": "[encoded data removed]"
          },
          "metadata": {}
        }
      ]
    },
    {
      "cell_type": "code",
      "source": [
        "import scipy.stats as stats\n",
        "import numpy as np\n",
        "from sklearn.svm import SVC\n",
        "from sklearn.model_selection import train_test_split\n",
        "from sklearn.datasets import make_classification\n",
        "from sklearn.metrics  import accuracy_score,confusion_matrix,classification_report\n",
        "import pandas as pd\n",
        "import matplotlib.pyplot as plt\n",
        "df=pd.read_csv('Iris.csv')\n",
        "X=df.drop(['Id','Species'],axis=1)\n",
        "y=df['Species']\n",
        "X_train, X_validation, Y_train, Y_validation = train_test_split(X, y, test_size=0.2, random_state=42)\n",
        "#make prediction\n",
        "model=SVC(gamma='auto')\n",
        "model.fit(X_train, Y_train)\n",
        "predictions= model.predict(X_validation)\n",
        "\n",
        "#evaluate prediction\n",
        "print(accuracy_score(Y_validation,predictions))\n",
        "print(confusion_matrix(Y_validation,predictions))\n",
        "print(classification_report(Y_validation,predictions))"
      ],
      "metadata": {
        "colab": {
          "base_uri": "https://localhost:8080/"
        },
        "id": "-GTV3SY4zgJq",
        "outputId": "bf91f39f-8970-4a50-b6e8-a3ed669e657d"
      },
      "execution_count": null,
      "outputs": [
        {
          "output_type": "stream",
          "name": "stdout",
          "text": [
            "1.0\n",
            "[[10  0  0]\n",
            " [ 0  9  0]\n",
            " [ 0  0 11]]\n",
            "                 precision    recall  f1-score   support\n",
            "\n",
            "    Iris-setosa       1.00      1.00      1.00        10\n",
            "Iris-versicolor       1.00      1.00      1.00         9\n",
            " Iris-virginica       1.00      1.00      1.00        11\n",
            "\n",
            "       accuracy                           1.00        30\n",
            "      macro avg       1.00      1.00      1.00        30\n",
            "   weighted avg       1.00      1.00      1.00        30\n",
            "\n"
          ]
        }
      ]
    }
  ]
}